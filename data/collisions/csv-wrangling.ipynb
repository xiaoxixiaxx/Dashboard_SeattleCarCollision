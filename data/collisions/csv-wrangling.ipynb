{
 "cells": [
  {
   "cell_type": "markdown",
   "metadata": {},
   "source": [
    "# Data Wrangling for GEOG 458 Final Project\n",
    "### Jin Ning Huang"
   ]
  },
  {
   "cell_type": "markdown",
   "metadata": {},
   "source": [
    "## Setup (Import and Load the Data)"
   ]
  },
  {
   "cell_type": "code",
   "execution_count": 2,
   "metadata": {},
   "outputs": [],
   "source": [
    "# import libraries\n",
    "import pandas as pd\n",
    "import numpy as np\n",
    "import datetime\n",
    "import csv\n",
    "import calendar"
   ]
  },
  {
   "cell_type": "code",
   "execution_count": 3,
   "metadata": {},
   "outputs": [
    {
     "data": {
      "text/html": [
       "<div>\n",
       "<style scoped>\n",
       "    .dataframe tbody tr th:only-of-type {\n",
       "        vertical-align: middle;\n",
       "    }\n",
       "\n",
       "    .dataframe tbody tr th {\n",
       "        vertical-align: top;\n",
       "    }\n",
       "\n",
       "    .dataframe thead th {\n",
       "        text-align: right;\n",
       "    }\n",
       "</style>\n",
       "<table border=\"1\" class=\"dataframe\">\n",
       "  <thead>\n",
       "    <tr style=\"text-align: right;\">\n",
       "      <th></th>\n",
       "      <th>X</th>\n",
       "      <th>Y</th>\n",
       "      <th>OBJECTID</th>\n",
       "      <th>INCKEY</th>\n",
       "      <th>COLDETKEY</th>\n",
       "      <th>REPORTNO</th>\n",
       "      <th>STATUS</th>\n",
       "      <th>ADDRTYPE</th>\n",
       "      <th>INTKEY</th>\n",
       "      <th>LOCATION</th>\n",
       "      <th>...</th>\n",
       "      <th>ROADCOND</th>\n",
       "      <th>LIGHTCOND</th>\n",
       "      <th>PEDROWNOTGRNT</th>\n",
       "      <th>SDOTCOLNUM</th>\n",
       "      <th>SPEEDING</th>\n",
       "      <th>ST_COLCODE</th>\n",
       "      <th>ST_COLDESC</th>\n",
       "      <th>SEGLANEKEY</th>\n",
       "      <th>CROSSWALKKEY</th>\n",
       "      <th>HITPARKEDCAR</th>\n",
       "    </tr>\n",
       "  </thead>\n",
       "  <tbody>\n",
       "    <tr>\n",
       "      <th>0</th>\n",
       "      <td>1.270739e+06</td>\n",
       "      <td>260119.782014</td>\n",
       "      <td>1</td>\n",
       "      <td>336736</td>\n",
       "      <td>338236</td>\n",
       "      <td>EA91716</td>\n",
       "      <td>Unmatched</td>\n",
       "      <td>Block</td>\n",
       "      <td>NaN</td>\n",
       "      <td>N 103RD ST BETWEEN WALLINGFORD AVE N AND MERID...</td>\n",
       "      <td>...</td>\n",
       "      <td>NaN</td>\n",
       "      <td>NaN</td>\n",
       "      <td>NaN</td>\n",
       "      <td>NaN</td>\n",
       "      <td>NaN</td>\n",
       "      <td></td>\n",
       "      <td>NaN</td>\n",
       "      <td>0</td>\n",
       "      <td>0</td>\n",
       "      <td>N</td>\n",
       "    </tr>\n",
       "    <tr>\n",
       "      <th>1</th>\n",
       "      <td>1.268027e+06</td>\n",
       "      <td>238245.867368</td>\n",
       "      <td>2</td>\n",
       "      <td>334709</td>\n",
       "      <td>336209</td>\n",
       "      <td>EA68406</td>\n",
       "      <td>Matched</td>\n",
       "      <td>Block</td>\n",
       "      <td>NaN</td>\n",
       "      <td>WESTLAKE AVE N BETWEEN HALLADAY ST AND NEWELL ST</td>\n",
       "      <td>...</td>\n",
       "      <td>Wet</td>\n",
       "      <td>Daylight</td>\n",
       "      <td>NaN</td>\n",
       "      <td>NaN</td>\n",
       "      <td>NaN</td>\n",
       "      <td>30</td>\n",
       "      <td>From opposite direction - all others</td>\n",
       "      <td>0</td>\n",
       "      <td>0</td>\n",
       "      <td>N</td>\n",
       "    </tr>\n",
       "    <tr>\n",
       "      <th>2</th>\n",
       "      <td>1.261730e+06</td>\n",
       "      <td>192489.632377</td>\n",
       "      <td>3</td>\n",
       "      <td>334261</td>\n",
       "      <td>335761</td>\n",
       "      <td>EA58089</td>\n",
       "      <td>Matched</td>\n",
       "      <td>Intersection</td>\n",
       "      <td>34902.0</td>\n",
       "      <td>26TH AVE SW AND SW ROXBURY ST</td>\n",
       "      <td>...</td>\n",
       "      <td>Dry</td>\n",
       "      <td>Daylight</td>\n",
       "      <td>NaN</td>\n",
       "      <td>NaN</td>\n",
       "      <td>NaN</td>\n",
       "      <td>11</td>\n",
       "      <td>From same direction - both going straight - bo...</td>\n",
       "      <td>0</td>\n",
       "      <td>0</td>\n",
       "      <td>N</td>\n",
       "    </tr>\n",
       "    <tr>\n",
       "      <th>3</th>\n",
       "      <td>1.264062e+06</td>\n",
       "      <td>246311.148464</td>\n",
       "      <td>4</td>\n",
       "      <td>334072</td>\n",
       "      <td>335572</td>\n",
       "      <td>EA61214</td>\n",
       "      <td>Unmatched</td>\n",
       "      <td>Intersection</td>\n",
       "      <td>25346.0</td>\n",
       "      <td>3RD AVE NW AND NW 50TH ST</td>\n",
       "      <td>...</td>\n",
       "      <td>NaN</td>\n",
       "      <td>NaN</td>\n",
       "      <td>NaN</td>\n",
       "      <td>NaN</td>\n",
       "      <td>NaN</td>\n",
       "      <td></td>\n",
       "      <td>NaN</td>\n",
       "      <td>0</td>\n",
       "      <td>0</td>\n",
       "      <td>Y</td>\n",
       "    </tr>\n",
       "    <tr>\n",
       "      <th>4</th>\n",
       "      <td>1.262526e+06</td>\n",
       "      <td>194078.844091</td>\n",
       "      <td>5</td>\n",
       "      <td>335976</td>\n",
       "      <td>337476</td>\n",
       "      <td>3876610</td>\n",
       "      <td>Matched</td>\n",
       "      <td>Block</td>\n",
       "      <td>NaN</td>\n",
       "      <td>SW BARTON PL BETWEEN 22ND AVE SW AND SW BARTON ST</td>\n",
       "      <td>...</td>\n",
       "      <td>Wet</td>\n",
       "      <td>Daylight</td>\n",
       "      <td>NaN</td>\n",
       "      <td>NaN</td>\n",
       "      <td>NaN</td>\n",
       "      <td>32</td>\n",
       "      <td>One parked--one moving</td>\n",
       "      <td>29573</td>\n",
       "      <td>0</td>\n",
       "      <td>Y</td>\n",
       "    </tr>\n",
       "  </tbody>\n",
       "</table>\n",
       "<p>5 rows × 40 columns</p>\n",
       "</div>"
      ],
      "text/plain": [
       "              X              Y  OBJECTID  INCKEY  COLDETKEY REPORTNO  \\\n",
       "0  1.270739e+06  260119.782014         1  336736     338236  EA91716   \n",
       "1  1.268027e+06  238245.867368         2  334709     336209  EA68406   \n",
       "2  1.261730e+06  192489.632377         3  334261     335761  EA58089   \n",
       "3  1.264062e+06  246311.148464         4  334072     335572  EA61214   \n",
       "4  1.262526e+06  194078.844091         5  335976     337476  3876610   \n",
       "\n",
       "      STATUS      ADDRTYPE   INTKEY  \\\n",
       "0  Unmatched         Block      NaN   \n",
       "1    Matched         Block      NaN   \n",
       "2    Matched  Intersection  34902.0   \n",
       "3  Unmatched  Intersection  25346.0   \n",
       "4    Matched         Block      NaN   \n",
       "\n",
       "                                            LOCATION  ... ROADCOND LIGHTCOND  \\\n",
       "0  N 103RD ST BETWEEN WALLINGFORD AVE N AND MERID...  ...      NaN       NaN   \n",
       "1   WESTLAKE AVE N BETWEEN HALLADAY ST AND NEWELL ST  ...      Wet  Daylight   \n",
       "2                      26TH AVE SW AND SW ROXBURY ST  ...      Dry  Daylight   \n",
       "3                          3RD AVE NW AND NW 50TH ST  ...      NaN       NaN   \n",
       "4  SW BARTON PL BETWEEN 22ND AVE SW AND SW BARTON ST  ...      Wet  Daylight   \n",
       "\n",
       "  PEDROWNOTGRNT SDOTCOLNUM SPEEDING  ST_COLCODE  \\\n",
       "0           NaN        NaN      NaN               \n",
       "1           NaN        NaN      NaN          30   \n",
       "2           NaN        NaN      NaN          11   \n",
       "3           NaN        NaN      NaN               \n",
       "4           NaN        NaN      NaN          32   \n",
       "\n",
       "                                          ST_COLDESC  SEGLANEKEY  \\\n",
       "0                                                NaN           0   \n",
       "1               From opposite direction - all others           0   \n",
       "2  From same direction - both going straight - bo...           0   \n",
       "3                                                NaN           0   \n",
       "4                             One parked--one moving       29573   \n",
       "\n",
       "   CROSSWALKKEY  HITPARKEDCAR  \n",
       "0             0             N  \n",
       "1             0             N  \n",
       "2             0             N  \n",
       "3             0             Y  \n",
       "4             0             Y  \n",
       "\n",
       "[5 rows x 40 columns]"
      ]
     },
     "execution_count": 3,
     "metadata": {},
     "output_type": "execute_result"
    }
   ],
   "source": [
    "# load the data and check what is inside\n",
    "collision_data = pd.read_csv('Collisions.csv')\n",
    "collision_data.head()"
   ]
  },
  {
   "cell_type": "code",
   "execution_count": 4,
   "metadata": {},
   "outputs": [
    {
     "data": {
      "text/plain": [
       "(224539, 40)"
      ]
     },
     "execution_count": 4,
     "metadata": {},
     "output_type": "execute_result"
    }
   ],
   "source": [
    "# check amount of incidents this data contains\n",
    "collision_data.shape"
   ]
  },
  {
   "cell_type": "markdown",
   "metadata": {},
   "source": [
    "## Formatting the Data\n",
    "\n",
    "I changed the column \"INCATE\" into the datetime data type in order for me to grab certain values. I added three new columns: year, month, and tick. I get the individual row a month and a year in order to make the aggregation and filtering easier. I used the tick as a count that occured on that certain month. "
   ]
  },
  {
   "cell_type": "code",
   "execution_count": 5,
   "metadata": {},
   "outputs": [],
   "source": [
    "# change to datatime data type\n",
    "collision_data['INCDATE'] =  pd.to_datetime(collision_data['INCDATE'], format='%Y-%m-%d')"
   ]
  },
  {
   "cell_type": "code",
   "execution_count": 6,
   "metadata": {},
   "outputs": [],
   "source": [
    "# add year column\n",
    "collision_data['year'] = collision_data['INCDATE'].dt.year"
   ]
  },
  {
   "cell_type": "code",
   "execution_count": 8,
   "metadata": {},
   "outputs": [],
   "source": [
    "# add month column\n",
    "collision_data['month'] = collision_data['INCDATE'].dt.month"
   ]
  },
  {
   "cell_type": "code",
   "execution_count": 9,
   "metadata": {},
   "outputs": [],
   "source": [
    "# add month counts column\n",
    "collision_data['tick'] = 1"
   ]
  },
  {
   "cell_type": "code",
   "execution_count": 10,
   "metadata": {},
   "outputs": [
    {
     "data": {
      "text/html": [
       "<div>\n",
       "<style scoped>\n",
       "    .dataframe tbody tr th:only-of-type {\n",
       "        vertical-align: middle;\n",
       "    }\n",
       "\n",
       "    .dataframe tbody tr th {\n",
       "        vertical-align: top;\n",
       "    }\n",
       "\n",
       "    .dataframe thead th {\n",
       "        text-align: right;\n",
       "    }\n",
       "</style>\n",
       "<table border=\"1\" class=\"dataframe\">\n",
       "  <thead>\n",
       "    <tr style=\"text-align: right;\">\n",
       "      <th></th>\n",
       "      <th>X</th>\n",
       "      <th>Y</th>\n",
       "      <th>OBJECTID</th>\n",
       "      <th>INCKEY</th>\n",
       "      <th>COLDETKEY</th>\n",
       "      <th>REPORTNO</th>\n",
       "      <th>STATUS</th>\n",
       "      <th>ADDRTYPE</th>\n",
       "      <th>INTKEY</th>\n",
       "      <th>LOCATION</th>\n",
       "      <th>...</th>\n",
       "      <th>SDOTCOLNUM</th>\n",
       "      <th>SPEEDING</th>\n",
       "      <th>ST_COLCODE</th>\n",
       "      <th>ST_COLDESC</th>\n",
       "      <th>SEGLANEKEY</th>\n",
       "      <th>CROSSWALKKEY</th>\n",
       "      <th>HITPARKEDCAR</th>\n",
       "      <th>year</th>\n",
       "      <th>month</th>\n",
       "      <th>tick</th>\n",
       "    </tr>\n",
       "  </thead>\n",
       "  <tbody>\n",
       "    <tr>\n",
       "      <th>0</th>\n",
       "      <td>1.270739e+06</td>\n",
       "      <td>260119.782014</td>\n",
       "      <td>1</td>\n",
       "      <td>336736</td>\n",
       "      <td>338236</td>\n",
       "      <td>EA91716</td>\n",
       "      <td>Unmatched</td>\n",
       "      <td>Block</td>\n",
       "      <td>NaN</td>\n",
       "      <td>N 103RD ST BETWEEN WALLINGFORD AVE N AND MERID...</td>\n",
       "      <td>...</td>\n",
       "      <td>NaN</td>\n",
       "      <td>NaN</td>\n",
       "      <td></td>\n",
       "      <td>NaN</td>\n",
       "      <td>0</td>\n",
       "      <td>0</td>\n",
       "      <td>N</td>\n",
       "      <td>2020</td>\n",
       "      <td>12</td>\n",
       "      <td>1</td>\n",
       "    </tr>\n",
       "    <tr>\n",
       "      <th>1</th>\n",
       "      <td>1.268027e+06</td>\n",
       "      <td>238245.867368</td>\n",
       "      <td>2</td>\n",
       "      <td>334709</td>\n",
       "      <td>336209</td>\n",
       "      <td>EA68406</td>\n",
       "      <td>Matched</td>\n",
       "      <td>Block</td>\n",
       "      <td>NaN</td>\n",
       "      <td>WESTLAKE AVE N BETWEEN HALLADAY ST AND NEWELL ST</td>\n",
       "      <td>...</td>\n",
       "      <td>NaN</td>\n",
       "      <td>NaN</td>\n",
       "      <td>30</td>\n",
       "      <td>From opposite direction - all others</td>\n",
       "      <td>0</td>\n",
       "      <td>0</td>\n",
       "      <td>N</td>\n",
       "      <td>2020</td>\n",
       "      <td>9</td>\n",
       "      <td>1</td>\n",
       "    </tr>\n",
       "    <tr>\n",
       "      <th>2</th>\n",
       "      <td>1.261730e+06</td>\n",
       "      <td>192489.632377</td>\n",
       "      <td>3</td>\n",
       "      <td>334261</td>\n",
       "      <td>335761</td>\n",
       "      <td>EA58089</td>\n",
       "      <td>Matched</td>\n",
       "      <td>Intersection</td>\n",
       "      <td>34902.0</td>\n",
       "      <td>26TH AVE SW AND SW ROXBURY ST</td>\n",
       "      <td>...</td>\n",
       "      <td>NaN</td>\n",
       "      <td>NaN</td>\n",
       "      <td>11</td>\n",
       "      <td>From same direction - both going straight - bo...</td>\n",
       "      <td>0</td>\n",
       "      <td>0</td>\n",
       "      <td>N</td>\n",
       "      <td>2020</td>\n",
       "      <td>8</td>\n",
       "      <td>1</td>\n",
       "    </tr>\n",
       "    <tr>\n",
       "      <th>3</th>\n",
       "      <td>1.264062e+06</td>\n",
       "      <td>246311.148464</td>\n",
       "      <td>4</td>\n",
       "      <td>334072</td>\n",
       "      <td>335572</td>\n",
       "      <td>EA61214</td>\n",
       "      <td>Unmatched</td>\n",
       "      <td>Intersection</td>\n",
       "      <td>25346.0</td>\n",
       "      <td>3RD AVE NW AND NW 50TH ST</td>\n",
       "      <td>...</td>\n",
       "      <td>NaN</td>\n",
       "      <td>NaN</td>\n",
       "      <td></td>\n",
       "      <td>NaN</td>\n",
       "      <td>0</td>\n",
       "      <td>0</td>\n",
       "      <td>Y</td>\n",
       "      <td>2020</td>\n",
       "      <td>9</td>\n",
       "      <td>1</td>\n",
       "    </tr>\n",
       "    <tr>\n",
       "      <th>4</th>\n",
       "      <td>1.262526e+06</td>\n",
       "      <td>194078.844091</td>\n",
       "      <td>5</td>\n",
       "      <td>335976</td>\n",
       "      <td>337476</td>\n",
       "      <td>3876610</td>\n",
       "      <td>Matched</td>\n",
       "      <td>Block</td>\n",
       "      <td>NaN</td>\n",
       "      <td>SW BARTON PL BETWEEN 22ND AVE SW AND SW BARTON ST</td>\n",
       "      <td>...</td>\n",
       "      <td>NaN</td>\n",
       "      <td>NaN</td>\n",
       "      <td>32</td>\n",
       "      <td>One parked--one moving</td>\n",
       "      <td>29573</td>\n",
       "      <td>0</td>\n",
       "      <td>Y</td>\n",
       "      <td>2020</td>\n",
       "      <td>11</td>\n",
       "      <td>1</td>\n",
       "    </tr>\n",
       "  </tbody>\n",
       "</table>\n",
       "<p>5 rows × 43 columns</p>\n",
       "</div>"
      ],
      "text/plain": [
       "              X              Y  OBJECTID  INCKEY  COLDETKEY REPORTNO  \\\n",
       "0  1.270739e+06  260119.782014         1  336736     338236  EA91716   \n",
       "1  1.268027e+06  238245.867368         2  334709     336209  EA68406   \n",
       "2  1.261730e+06  192489.632377         3  334261     335761  EA58089   \n",
       "3  1.264062e+06  246311.148464         4  334072     335572  EA61214   \n",
       "4  1.262526e+06  194078.844091         5  335976     337476  3876610   \n",
       "\n",
       "      STATUS      ADDRTYPE   INTKEY  \\\n",
       "0  Unmatched         Block      NaN   \n",
       "1    Matched         Block      NaN   \n",
       "2    Matched  Intersection  34902.0   \n",
       "3  Unmatched  Intersection  25346.0   \n",
       "4    Matched         Block      NaN   \n",
       "\n",
       "                                            LOCATION  ... SDOTCOLNUM SPEEDING  \\\n",
       "0  N 103RD ST BETWEEN WALLINGFORD AVE N AND MERID...  ...        NaN      NaN   \n",
       "1   WESTLAKE AVE N BETWEEN HALLADAY ST AND NEWELL ST  ...        NaN      NaN   \n",
       "2                      26TH AVE SW AND SW ROXBURY ST  ...        NaN      NaN   \n",
       "3                          3RD AVE NW AND NW 50TH ST  ...        NaN      NaN   \n",
       "4  SW BARTON PL BETWEEN 22ND AVE SW AND SW BARTON ST  ...        NaN      NaN   \n",
       "\n",
       "  ST_COLCODE                                         ST_COLDESC SEGLANEKEY  \\\n",
       "0                                                           NaN          0   \n",
       "1         30               From opposite direction - all others          0   \n",
       "2         11  From same direction - both going straight - bo...          0   \n",
       "3                                                           NaN          0   \n",
       "4         32                             One parked--one moving      29573   \n",
       "\n",
       "   CROSSWALKKEY  HITPARKEDCAR  year  month  tick  \n",
       "0             0             N  2020     12     1  \n",
       "1             0             N  2020      9     1  \n",
       "2             0             N  2020      8     1  \n",
       "3             0             Y  2020      9     1  \n",
       "4             0             Y  2020     11     1  \n",
       "\n",
       "[5 rows x 43 columns]"
      ]
     },
     "execution_count": 10,
     "metadata": {},
     "output_type": "execute_result"
    }
   ],
   "source": [
    "# check at the left of the dataset\n",
    "collision_data.head()"
   ]
  },
  {
   "cell_type": "markdown",
   "metadata": {},
   "source": [
    "## Filtering, Aggregating, then Printing a CSV\n",
    "\n",
    "I decided to filter out four times: each for 2018, 2019, 2020, and 2018-2020 with the help of filtering. For each small dataset, I aggregating in a group-by way. Then, let this machines print out a new csv for the web plots."
   ]
  },
  {
   "cell_type": "markdown",
   "metadata": {},
   "source": [
    "#### For 2018 - 2020"
   ]
  },
  {
   "cell_type": "code",
   "execution_count": 11,
   "metadata": {},
   "outputs": [],
   "source": [
    "# filter to 2018 - 2020\n",
    "year_2018_to_2020 = collision_data[(collision_data['year'] >= 2018) & (collision_data['year'] <= 2020)]"
   ]
  },
  {
   "cell_type": "code",
   "execution_count": 12,
   "metadata": {},
   "outputs": [
    {
     "data": {
      "text/plain": [
       "(30586, 43)"
      ]
     },
     "execution_count": 12,
     "metadata": {},
     "output_type": "execute_result"
    }
   ],
   "source": [
    "# checking how many incidents on this time frame\n",
    "year_2018_to_2020.shape"
   ]
  },
  {
   "cell_type": "code",
   "execution_count": 13,
   "metadata": {},
   "outputs": [
    {
     "data": {
      "text/plain": [
       "2018    12199\n",
       "2019    11209\n",
       "2020     7178\n",
       "Name: year, dtype: int64"
      ]
     },
     "execution_count": 13,
     "metadata": {},
     "output_type": "execute_result"
    }
   ],
   "source": [
    "# checking each year's incidents\n",
    "year_2018_to_2020.year.value_counts()"
   ]
  },
  {
   "cell_type": "code",
   "execution_count": 14,
   "metadata": {},
   "outputs": [
    {
     "data": {
      "text/plain": [
       "month\n",
       "Jan    2957\n",
       "Feb    2515\n",
       "Mar    2417\n",
       "Apr    2253\n",
       "May    2522\n",
       "Jun    2567\n",
       "Jul    2621\n",
       "Aug    2487\n",
       "Sep    2414\n",
       "Oct    2812\n",
       "Nov    2503\n",
       "Dec    2518\n",
       "Name: tick, dtype: int64"
      ]
     },
     "execution_count": 14,
     "metadata": {},
     "output_type": "execute_result"
    }
   ],
   "source": [
    "# aggregating by each months\n",
    "year_all = year_2018_to_2020.groupby('month').sum()\n",
    "# renaming to month names\n",
    "dd=dict((enumerate(calendar.month_abbr)))\n",
    "year_all = year_all.rename(index=dd,level=0)\n",
    "# slice to only months and its counts\n",
    "year_all = year_all['tick']\n",
    "year_all"
   ]
  },
  {
   "cell_type": "code",
   "execution_count": 15,
   "metadata": {},
   "outputs": [],
   "source": [
    "# print out csv\n",
    "year_all.to_csv(r'collision_2018_2020.csv')"
   ]
  },
  {
   "cell_type": "markdown",
   "metadata": {},
   "source": [
    "#### For 2020\n",
    "\n",
    "Same thing as previous dataset"
   ]
  },
  {
   "cell_type": "code",
   "execution_count": 16,
   "metadata": {},
   "outputs": [],
   "source": [
    "year_2020 = collision_data[collision_data['year'] == 2020]"
   ]
  },
  {
   "cell_type": "code",
   "execution_count": 17,
   "metadata": {},
   "outputs": [
    {
     "data": {
      "text/plain": [
       "(7178, 43)"
      ]
     },
     "execution_count": 17,
     "metadata": {},
     "output_type": "execute_result"
    }
   ],
   "source": [
    "year_2020.shape"
   ]
  },
  {
   "cell_type": "code",
   "execution_count": 18,
   "metadata": {},
   "outputs": [],
   "source": [
    "year_2020 = year_2020.groupby('month').sum()"
   ]
  },
  {
   "cell_type": "code",
   "execution_count": 19,
   "metadata": {},
   "outputs": [],
   "source": [
    "dd=dict((enumerate(calendar.month_abbr)))\n",
    "year_2020 = year_2020.rename(index=dd,level=0)"
   ]
  },
  {
   "cell_type": "code",
   "execution_count": 20,
   "metadata": {},
   "outputs": [
    {
     "data": {
      "text/plain": [
       "month\n",
       "Jan    902\n",
       "Feb    844\n",
       "Mar    557\n",
       "Apr    399\n",
       "May    452\n",
       "Jun    542\n",
       "Jul    556\n",
       "Aug    581\n",
       "Sep    548\n",
       "Oct    651\n",
       "Nov    543\n",
       "Dec    603\n",
       "Name: tick, dtype: int64"
      ]
     },
     "execution_count": 20,
     "metadata": {},
     "output_type": "execute_result"
    }
   ],
   "source": [
    "year_2020 = year_2020['tick']\n",
    "year_2020"
   ]
  },
  {
   "cell_type": "code",
   "execution_count": 21,
   "metadata": {},
   "outputs": [],
   "source": [
    "year_2020.to_csv(r'collision_2020.csv')"
   ]
  },
  {
   "cell_type": "markdown",
   "metadata": {},
   "source": [
    "#### For 2018"
   ]
  },
  {
   "cell_type": "code",
   "execution_count": 24,
   "metadata": {},
   "outputs": [
    {
     "data": {
      "text/plain": [
       "month\n",
       "Jan    1125\n",
       "Feb     912\n",
       "Mar     998\n",
       "Apr     919\n",
       "May    1050\n",
       "Jun    1008\n",
       "Jul    1064\n",
       "Aug     987\n",
       "Sep     957\n",
       "Oct    1091\n",
       "Nov    1026\n",
       "Dec    1062\n",
       "Name: tick, dtype: int64"
      ]
     },
     "execution_count": 24,
     "metadata": {},
     "output_type": "execute_result"
    }
   ],
   "source": [
    "year_2018 = collision_data[collision_data['year'] == 2018]\n",
    "year_2018 = year_2018.groupby('month').sum()\n",
    "dd=dict((enumerate(calendar.month_abbr)))\n",
    "year_2018 = year_2018.rename(index=dd,level=0)\n",
    "year_2018 = year_2018['tick']\n",
    "year_2018"
   ]
  },
  {
   "cell_type": "code",
   "execution_count": 25,
   "metadata": {},
   "outputs": [],
   "source": [
    "year_2018.to_csv(r'collision_2018.csv')"
   ]
  },
  {
   "cell_type": "markdown",
   "metadata": {},
   "source": [
    "#### For 2019"
   ]
  },
  {
   "cell_type": "code",
   "execution_count": 26,
   "metadata": {},
   "outputs": [
    {
     "data": {
      "text/plain": [
       "month\n",
       "Jan     930\n",
       "Feb     759\n",
       "Mar     862\n",
       "Apr     935\n",
       "May    1020\n",
       "Jun    1017\n",
       "Jul    1001\n",
       "Aug     919\n",
       "Sep     909\n",
       "Oct    1070\n",
       "Nov     934\n",
       "Dec     853\n",
       "Name: tick, dtype: int64"
      ]
     },
     "execution_count": 26,
     "metadata": {},
     "output_type": "execute_result"
    }
   ],
   "source": [
    "year_2019 = collision_data[collision_data['year'] == 2019]\n",
    "year_2019 = year_2019.groupby('month').sum()\n",
    "dd=dict((enumerate(calendar.month_abbr)))\n",
    "year_2019 = year_2019.rename(index=dd,level=0)\n",
    "year_2019 = year_2019['tick']\n",
    "year_2019"
   ]
  },
  {
   "cell_type": "code",
   "execution_count": 27,
   "metadata": {},
   "outputs": [],
   "source": [
    "year_2019.to_csv(r'collision_2019.csv')"
   ]
  }
 ],
 "metadata": {
  "kernelspec": {
   "display_name": "Python 3",
   "language": "python",
   "name": "python3"
  },
  "language_info": {
   "codemirror_mode": {
    "name": "ipython",
    "version": 3
   },
   "file_extension": ".py",
   "mimetype": "text/x-python",
   "name": "python",
   "nbconvert_exporter": "python",
   "pygments_lexer": "ipython3",
   "version": "3.7.6"
  }
 },
 "nbformat": 4,
 "nbformat_minor": 4
}
